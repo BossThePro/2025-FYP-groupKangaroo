{
 "cells": [
  {
   "cell_type": "code",
   "execution_count": 2,
   "id": "8dc5913c",
   "metadata": {},
   "outputs": [
    {
     "data": {
      "text/html": [
       "<div>\n",
       "<style scoped>\n",
       "    .dataframe tbody tr th:only-of-type {\n",
       "        vertical-align: middle;\n",
       "    }\n",
       "\n",
       "    .dataframe tbody tr th {\n",
       "        vertical-align: top;\n",
       "    }\n",
       "\n",
       "    .dataframe thead th {\n",
       "        text-align: right;\n",
       "    }\n",
       "</style>\n",
       "<table border=\"1\" class=\"dataframe\">\n",
       "  <thead>\n",
       "    <tr style=\"text-align: right;\">\n",
       "      <th></th>\n",
       "      <th>Wilcoxon Statistic</th>\n",
       "      <th>p-value</th>\n",
       "    </tr>\n",
       "  </thead>\n",
       "  <tbody>\n",
       "    <tr>\n",
       "      <th>Accuracy</th>\n",
       "      <td>0.0</td>\n",
       "      <td>0.003906</td>\n",
       "    </tr>\n",
       "    <tr>\n",
       "      <th>Precision</th>\n",
       "      <td>2.0</td>\n",
       "      <td>0.011719</td>\n",
       "    </tr>\n",
       "    <tr>\n",
       "      <th>Recall</th>\n",
       "      <td>0.0</td>\n",
       "      <td>0.003906</td>\n",
       "    </tr>\n",
       "    <tr>\n",
       "      <th>F1 Score</th>\n",
       "      <td>0.0</td>\n",
       "      <td>0.003906</td>\n",
       "    </tr>\n",
       "  </tbody>\n",
       "</table>\n",
       "</div>"
      ],
      "text/plain": [
       "           Wilcoxon Statistic   p-value\n",
       "Accuracy                  0.0  0.003906\n",
       "Precision                 2.0  0.011719\n",
       "Recall                    0.0  0.003906\n",
       "F1 Score                  0.0  0.003906"
      ]
     },
     "execution_count": 2,
     "metadata": {},
     "output_type": "execute_result"
    }
   ],
   "source": [
    "from scipy.stats import wilcoxon\n",
    "import pandas as pd\n",
    "\n",
    "# Metrics from Model A\n",
    "model_a = {\n",
    "    \"Accuracy\": [0.4892, 0.5252, 0.5036, 0.5540, 0.5870, 0.5290, 0.4855, 0.4855],\n",
    "    \"Precision\": [0.0000, 0.0000, 0.0000, 0.4333, 0.6667, 0.0000, 0.0000, 0.3158],\n",
    "    \"Recall\": [0.0000, 0.0000, 0.0000, 0.2241, 0.0678, 0.0000, 0.0000, 0.0938],\n",
    "    \"F1 Score\": [0.0000, 0.0000, 0.0000, 0.2955, 0.1231, 0.0000, 0.0000, 0.1446]\n",
    "}\n",
    "\n",
    "# Metrics from Model B\n",
    "model_b = {\n",
    "    \"Accuracy\": [0.5540, 0.5396, 0.5971, 0.5755, 0.6043, 0.6304, 0.5942, 0.6159],\n",
    "    \"Precision\": [0.5000, 0.5882, 0.5714, 0.5217, 0.5714, 0.6000, 0.5362, 0.5714],\n",
    "    \"Recall\": [0.6452, 0.5263, 0.7059, 0.5806, 0.6154, 0.6462, 0.6066, 0.6349],\n",
    "    \"F1 Score\": [0.5634, 0.5556, 0.6316, 0.5496, 0.5926, 0.6222, 0.5692, 0.6015]\n",
    "}\n",
    "\n",
    "# Run Wilcoxon test for each metric\n",
    "results = {}\n",
    "for metric in model_a:\n",
    "    stat, pval = wilcoxon(model_a[metric], model_b[metric], alternative='less')\n",
    "    results[metric] = {\"Wilcoxon Statistic\": stat, \"p-value\": pval}\n",
    "\n",
    "# Convert to DataFrame for display\n",
    "results_df = pd.DataFrame(results).T\n",
    "\n",
    "results_df"
   ]
  }
 ],
 "metadata": {
  "kernelspec": {
   "display_name": "base",
   "language": "python",
   "name": "python3"
  },
  "language_info": {
   "codemirror_mode": {
    "name": "ipython",
    "version": 3
   },
   "file_extension": ".py",
   "mimetype": "text/x-python",
   "name": "python",
   "nbconvert_exporter": "python",
   "pygments_lexer": "ipython3",
   "version": "3.11.9"
  }
 },
 "nbformat": 4,
 "nbformat_minor": 5
}
