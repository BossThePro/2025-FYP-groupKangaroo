{
 "cells": [
  {
   "cell_type": "markdown",
   "id": "18acdc38",
   "metadata": {},
   "source": [
    "__CSV Training/Test converter__ \n",
    "\n",
    "Training/Test converter maps scores from asym generator to either training or test data dependent on pathing this allows for compiling all other features and csv correctly as well as allows for use in training and testing of model against the data."
   ]
  },
  {
   "cell_type": "code",
   "execution_count": null,
   "id": "3e7266b3",
   "metadata": {},
   "outputs": [],
   "source": [
    "import pandas as pd\n",
    "\n",
    "# Load the training data\n",
    "trainORtest_path = r\"C:\\Users\\Peter\\Documents\\Data Science\\Semester 2 - Projects in Data Science\\FinalData\\training_data (1).csv\"\n",
    "trainDF = pd.read_csv(train_path)\n",
    "\n",
    "# Load the asymmetry scores\n",
    "asym_path = r\"C:\\Users\\Peter\\Documents\\Data Science\\Semester 2 - Projects in Data Science\\FinalData\\multiLesion_mean_scores.csv\"\n",
    "assDF = pd.read_csv(asym_path)\n",
    "\n",
    "# Get img_ids from trainDF\n",
    "img_ids = trainDF['img_id']\n",
    "\n",
    "# Find rows in assDF where 'img_id' matches those in trainDF\n",
    "matching_rows = assDF[assDF['img_id'].isin(img_ids)]\n",
    "\n",
    "# Merge and reorder based on 'img_id'\n",
    "merged_df = trainDF[['img_id']].merge(matching_rows, on='img_id', how='left')\n",
    "\n",
    "output_csv2 = r\"C:\\Users\\Peter\\Documents\\Data Science\\Semester 2 - Projects in Data Science\\FinalData\\multi_asym_scores.csv\"\n",
    "# Export to new CSV\n",
    "merged_df.to_csv(output_csv2, index=False)"
   ]
  }
 ],
 "metadata": {
  "kernelspec": {
   "display_name": "base",
   "language": "python",
   "name": "python3"
  },
  "language_info": {
   "codemirror_mode": {
    "name": "ipython",
    "version": 3
   },
   "file_extension": ".py",
   "mimetype": "text/x-python",
   "name": "python",
   "nbconvert_exporter": "python",
   "pygments_lexer": "ipython3",
   "version": "3.11.9"
  }
 },
 "nbformat": 4,
 "nbformat_minor": 5
}
