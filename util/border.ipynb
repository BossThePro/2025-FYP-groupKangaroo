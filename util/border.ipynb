{
 "cells": [
  {
   "cell_type": "code",
   "execution_count": 23,
   "metadata": {},
   "outputs": [
    {
     "data": {
      "text/plain": [
       "16.425385600133854"
      ]
     },
     "execution_count": 23,
     "metadata": {},
     "output_type": "execute_result"
    }
   ],
   "source": [
    "import cv2\n",
    "import numpy as np\n",
    "import matplotlib.pyplot as plt\n",
    "from skimage import morphology\n",
    "from skimage.color import rgb2gray\n",
    "#Might be more usable when its possible to successfully remove hair, so we can proper detect colour differention\n",
    "#when it shifts from edge to skin.\n",
    "def sharpness_score(mask):\n",
    "    mask = cv2.imread(mask,cv2.IMREAD_GRAYSCALE)\n",
    "    #mask = np.zeros((256, 256), dtype=np.uint8)\n",
    "    if mask is None:\n",
    "        raise FileNotFoundError(\"Could not load lesion_mask.png. Check the file path.\")\n",
    "    cv2.circle(mask, (128, 128), 60, 255, -1)\n",
    "    #I try with sobel\n",
    "    sobel_x = cv2.Sobel(mask, cv2.CV_64F, 1, 0, ksize=3)\n",
    "    sobel_y = cv2.Sobel(mask, cv2.CV_64F, 0, 1, ksize=3)\n",
    "    gradient_magnitude = cv2.magnitude(sobel_x, sobel_y)\n",
    "    edge_pixels = gradient_magnitude[mask > 0]\n",
    "    sharpness_score = np.mean(edge_pixels)\n",
    "\n",
    "\n",
    "    return sharpness_score\n",
    "\n",
    "file_1 = \"/Users/simonbruun-simonsen/Desktop/FeatureExtraction/2025-FYP-groupKangaroo/data/PAT_161_250_197_mask.png\"\n",
    "file_2 = \"/Users/simonbruun-simonsen/Desktop/FeatureExtraction/2025-FYP-groupKangaroo/data/PAT_168_260_654_mask.png\"\n",
    "file_3 = \"/Users/simonbruun-simonsen/Desktop/FeatureExtraction/2025-FYP-groupKangaroo/data/PAT_43_61_210_mask.png\"\n",
    "sharpness_score(file_4)\n",
    "\n",
    "\n"
   ]
  },
  {
   "cell_type": "code",
   "execution_count": 18,
   "metadata": {},
   "outputs": [
    {
     "name": "stdout",
     "output_type": "stream",
     "text": [
      "118096\n"
     ]
    },
    {
     "data": {
      "text/plain": [
       "0.892648663992436"
      ]
     },
     "execution_count": 18,
     "metadata": {},
     "output_type": "execute_result"
    }
   ],
   "source": [
    "from skimage import measure\n",
    "def compactness(mask_file):\n",
    "    #Reads file\n",
    "    mask = cv2.imread(mask_file)\n",
    "    #Makes it grayscaled, just in case.\n",
    "    mask_gray = rgb2gray(mask)\n",
    "    #Counts all pixels brigther than 0.5\n",
    "    mask_bin = mask_gray > 0.5\n",
    "    \n",
    "    #We sum all the true values.\n",
    "    A = np.sum(mask_bin)\n",
    "\n",
    "    #We use a morphology disk\n",
    "    struct = morphology.disk(2)\n",
    "    \n",
    "    #mask_eroded  = morphology.binary_erosion(mask_bin, struct)\n",
    "\n",
    "    #perimeter = mask_bin & ~mask_eroded# Whats left after subtracting our mask from the eroded mask\n",
    "    #L = np.sum(perimeter)\n",
    "    #Returns total perimeter of all objects in BINARY image.\n",
    "    L = measure.perimeter(mask_bin)\n",
    "    #migth get easily influenced on the perimeter.\n",
    "    compactness = (4*np.pi*A) / (L**2)\n",
    "\n",
    "    return compactness\n",
    "\n",
    "\n",
    "file_4 = \"/Users/simonbruun-simonsen/Desktop/FeatureExtraction/2025-FYP-groupKangaroo/data/PAT_39_55_233_mask.png\"\n",
    "file_5 = \"/Users/simonbruun-simonsen/Desktop/FeatureExtraction/2025-FYP-groupKangaroo/data/PAT_54_83_405_mask.png\"\n",
    "compactness(file_4)\n",
    "\n",
    "\n"
   ]
  },
  {
   "cell_type": "markdown",
   "metadata": {},
   "source": []
  },
  {
   "cell_type": "code",
   "execution_count": 24,
   "metadata": {},
   "outputs": [
    {
     "data": {
      "text/plain": [
       "1.0559494455444307"
      ]
     },
     "execution_count": 24,
     "metadata": {},
     "output_type": "execute_result"
    }
   ],
   "source": [
    "from scipy.spatial import ConvexHull\n",
    "\n",
    "#Irregulairity index, starts from 1, mostly goes up till 1.5 if no noise.\n",
    "def convexity(mask):\n",
    "    #Reads file\n",
    "    mask = cv2.imread(mask)\n",
    "    #Makes it grayscaled, just in case.\n",
    "    mask = rgb2gray(mask)\n",
    "    coords = np.column_stack(np.nonzero(mask))\n",
    "    hull = ConvexHull(coords)\n",
    "    hull_coords = coords[hull.vertices]\n",
    "    perimeter = measure.perimeter(mask)\n",
    "    \n",
    "    hull_perimeter = np.sum(np.sqrt(np.sum(np.diff(np.vstack([hull_coords, hull_coords[0]]), axis = 0)**2, axis = 1)))\n",
    "    convex_score = perimeter/hull_perimeter\n",
    "    #Score at around 1.0 means PERFECT circle.\n",
    "    #Scores at 1.5 ish its jagged. Above that we could say its influenced by noise.\n",
    "    return convex_score\n",
    "\n",
    "convexity(file_4)\n"
   ]
  },
  {
   "cell_type": "code",
   "execution_count": null,
   "metadata": {},
   "outputs": [],
   "source": []
  }
 ],
 "metadata": {
  "kernelspec": {
   "display_name": "base",
   "language": "python",
   "name": "python3"
  },
  "language_info": {
   "codemirror_mode": {
    "name": "ipython",
    "version": 3
   },
   "file_extension": ".py",
   "mimetype": "text/x-python",
   "name": "python",
   "nbconvert_exporter": "python",
   "pygments_lexer": "ipython3",
   "version": "3.12.8"
  }
 },
 "nbformat": 4,
 "nbformat_minor": 2
}
