{
 "cells": [
  {
   "cell_type": "code",
   "execution_count": 1,
   "metadata": {},
   "outputs": [
    {
     "data": {
      "text/plain": [
       "24.32276093114595"
      ]
     },
     "execution_count": 1,
     "metadata": {},
     "output_type": "execute_result"
    }
   ],
   "source": [
    "import cv2\n",
    "import numpy as np\n",
    "import matplotlib.pyplot as plt\n",
    "from skimage import morphology\n",
    "from skimage.color import rgb2gray\n",
    "#Might be more usable when its possible to successfully remove hair, so we can proper detect colour differention\n",
    "#when it shifts from edge to skin.\n",
    "def sharpness_score(mask):\n",
    "    mask = cv2.imread(mask,cv2.IMREAD_GRAYSCALE)\n",
    "    #mask = np.zeros((256, 256), dtype=np.uint8)\n",
    "    if mask is None:\n",
    "        raise FileNotFoundError(\"Could not load lesion_mask.png. Check the file path.\")\n",
    "    cv2.circle(mask, (128, 128), 60, 255, -1)\n",
    "    #I try with sobel\n",
    "    sobel_x = cv2.Sobel(mask, cv2.CV_64F, 1, 0, ksize=3)\n",
    "    sobel_y = cv2.Sobel(mask, cv2.CV_64F, 0, 1, ksize=3)\n",
    "    gradient_magnitude = cv2.magnitude(sobel_x, sobel_y)\n",
    "    edge_pixels = gradient_magnitude[mask > 0]\n",
    "    sharpness_score = np.mean(edge_pixels)\n",
    "\n",
    "\n",
    "    return sharpness_score\n",
    "\n",
    "file_1 = \"/Users/simonbruun-simonsen/Desktop/FeatureExtraction/2025-FYP-groupKangaroo/data/PAT_161_250_197_mask.png\"\n",
    "file_2 = \"/Users/simonbruun-simonsen/Desktop/FeatureExtraction/2025-FYP-groupKangaroo/data/PAT_168_260_654_mask.png\"\n",
    "file_3 = \"/Users/simonbruun-simonsen/Desktop/FeatureExtraction/2025-FYP-groupKangaroo/data/PAT_43_61_210_mask.png\"\n",
    "sharpness_score(file_1)\n",
    "\n",
    "\n"
   ]
  },
  {
   "cell_type": "code",
   "execution_count": 2,
   "metadata": {},
   "outputs": [
    {
     "data": {
      "text/plain": [
       "0.892648663992436"
      ]
     },
     "execution_count": 2,
     "metadata": {},
     "output_type": "execute_result"
    }
   ],
   "source": [
    "from skimage import measure\n",
    "def compactness(mask_file):\n",
    "    #Reads file\n",
    "    mask = cv2.imread(mask_file)\n",
    "    #Makes it grayscaled, just in case.\n",
    "    mask_gray = rgb2gray(mask)\n",
    "    #Counts all pixels brigther than 0.5\n",
    "    mask_bin = mask_gray > 0.5\n",
    "    \n",
    "    #We sum all the true values.\n",
    "    A = np.sum(mask_bin)\n",
    "\n",
    "    #We use a morphology disk\n",
    "    struct = morphology.disk(2)\n",
    "    \n",
    "    #mask_eroded  = morphology.binary_erosion(mask_bin, struct)\n",
    "\n",
    "    #perimeter = mask_bin & ~mask_eroded# Whats left after subtracting our mask from the eroded mask\n",
    "    #L = np.sum(perimeter)\n",
    "    #Returns total perimeter of all objects in BINARY image.\n",
    "    L = measure.perimeter(mask_bin)\n",
    "    #migth get easily influenced on the perimeter.\n",
    "    compactness = (4*np.pi*A) / (L**2)\n",
    "\n",
    "    return compactness\n",
    "\n",
    "\n",
    "file_4 = \"/Users/simonbruun-simonsen/Desktop/FeatureExtraction/2025-FYP-groupKangaroo/data/PAT_39_55_233_mask.png\"\n",
    "file_5 = \"/Users/simonbruun-simonsen/Desktop/FeatureExtraction/2025-FYP-groupKangaroo/data/PAT_54_83_405_mask.png\"\n",
    "compactness(file_4)\n",
    "\n",
    "\n"
   ]
  },
  {
   "cell_type": "markdown",
   "metadata": {},
   "source": []
  },
  {
   "cell_type": "code",
   "execution_count": 22,
   "metadata": {},
   "outputs": [
    {
     "data": {
      "text/plain": [
       "1.0743759851944519"
      ]
     },
     "execution_count": 22,
     "metadata": {},
     "output_type": "execute_result"
    }
   ],
   "source": [
    "from scipy.spatial import ConvexHull\n",
    "\n",
    "#Irregulairity index, starts from 1, mostly goes up till 1.5 if no noise.\n",
    "def convexity(mask):\n",
    "    #Reads file\n",
    "    mask = cv2.imread(mask)\n",
    "    #Makes it grayscaled, just in case.\n",
    "    mask = rgb2gray(mask)\n",
    "    coords = np.column_stack(np.nonzero(mask))\n",
    "    hull = ConvexHull(coords)\n",
    "    hull_coords = coords[hull.vertices]\n",
    "    perimeter = measure.perimeter(mask)\n",
    "    \n",
    "    hull_perimeter = np.sum(np.sqrt(np.sum(np.diff(np.vstack([hull_coords, hull_coords[0]]), axis = 0)**2, axis = 1)))\n",
    "    convex_score = perimeter/hull_perimeter\n",
    "    #Score at around 1.0 means PERFECT circle.\n",
    "    #Scores at 1.5 ish its jagged. Above that we could say its influenced by noise.\n",
    "    return convex_score\n",
    "\n",
    "convexity(file_2)\n"
   ]
  },
  {
   "cell_type": "markdown",
   "metadata": {},
   "source": [
    "\"While alternative border-based irregularity measures were considered (e.g., contour simplification with approxPolyDP), these were found to be overly sensitive to noise and often failed to capture the overall shape complexity. The convex hull area-based index, despite its limitations in ignoring indentations, offered a more stable and interpretable metric across our dataset.\""
   ]
  },
  {
   "cell_type": "code",
   "execution_count": 20,
   "metadata": {},
   "outputs": [
    {
     "data": {
      "text/plain": [
       "(array([[[0, 0, 0],\n",
       "         [0, 0, 0],\n",
       "         [0, 0, 0],\n",
       "         ...,\n",
       "         [0, 0, 0],\n",
       "         [0, 0, 0],\n",
       "         [0, 0, 0]],\n",
       " \n",
       "        [[0, 0, 0],\n",
       "         [0, 0, 0],\n",
       "         [0, 0, 0],\n",
       "         ...,\n",
       "         [0, 0, 0],\n",
       "         [0, 0, 0],\n",
       "         [0, 0, 0]],\n",
       " \n",
       "        [[0, 0, 0],\n",
       "         [0, 0, 0],\n",
       "         [0, 0, 0],\n",
       "         ...,\n",
       "         [0, 0, 0],\n",
       "         [0, 0, 0],\n",
       "         [0, 0, 0]],\n",
       " \n",
       "        ...,\n",
       " \n",
       "        [[0, 0, 0],\n",
       "         [0, 0, 0],\n",
       "         [0, 0, 0],\n",
       "         ...,\n",
       "         [0, 0, 0],\n",
       "         [0, 0, 0],\n",
       "         [0, 0, 0]],\n",
       " \n",
       "        [[0, 0, 0],\n",
       "         [0, 0, 0],\n",
       "         [0, 0, 0],\n",
       "         ...,\n",
       "         [0, 0, 0],\n",
       "         [0, 0, 0],\n",
       "         [0, 0, 0]],\n",
       " \n",
       "        [[0, 0, 0],\n",
       "         [0, 0, 0],\n",
       "         [0, 0, 0],\n",
       "         ...,\n",
       "         [0, 0, 0],\n",
       "         [0, 0, 0],\n",
       "         [0, 0, 0]]], dtype=uint8),\n",
       " 0.2438593060842619,\n",
       " 305500.5,\n",
       " 404026.0)"
      ]
     },
     "execution_count": 20,
     "metadata": {},
     "output_type": "execute_result"
    }
   ],
   "source": [
    "from cv2 import approxPolyDP\n",
    "\n",
    "\n",
    "def Poly(mask):\n",
    "    #Reads file\n",
    "    mask = cv2.imread(mask)\n",
    "    #Makes it grayscaled, just in case.\n",
    "    mask = rgb2gray(mask)\n",
    "    mask = mask.astype(np.uint8)\n",
    "    contours, _ = cv2.findContours(mask, cv2.RETR_EXTERNAL, cv2.CHAIN_APPROX_SIMPLE)\n",
    "    \n",
    "    # Get the largest contour (assumes the lesion is the largest)\n",
    "    main_contour = max(contours, key=cv2.contourArea)\n",
    "    \n",
    "    # Calculate the area of the original contour\n",
    "    area_original = cv2.contourArea(main_contour)\n",
    "    \n",
    "    # Calculate the convex hull of the original contour\n",
    "    convex_hull = cv2.convexHull(main_contour)\n",
    "    \n",
    "    # Calculate the area of the convex hull\n",
    "    area_convex = cv2.contourArea(convex_hull)\n",
    "    \n",
    "    # Calculate the irregularity index based on area difference\n",
    "    irregularity_index = abs(area_convex - area_original) / area_convex\n",
    "    \n",
    "    #irregularity_index = abs(perimeter_original-perimeter_approx) / area_original\n",
    "    # Draw the original and approximated contours on the mask (for visualization)\n",
    "    img_copy = cv2.cvtColor(mask, cv2.COLOR_GRAY2BGR)  # Make the mask 3-channel for drawing\n",
    "    cv2.drawContours(img_copy, [main_contour], -1, (0, 255, 0), 2)  # Green for original\n",
    "    cv2.drawContours(img_copy, [convex_hull], -1, (0, 0, 255), 2)  # Red for approximated\n",
    "\n",
    "    cv2.imshow(\"Contour and Approximation\", img_copy)\n",
    "    cv2.waitKey(0)  # Wait until a key is pressed\n",
    "    cv2.destroyAllWindows()  # Close the window when done\n",
    "    \n",
    "    return img_copy, irregularity_index, area_original, area_convex\n",
    "\n",
    "Poly(file_3)"
   ]
  },
  {
   "cell_type": "code",
   "execution_count": 27,
   "metadata": {},
   "outputs": [
    {
     "data": {
      "text/plain": [
       "0.9995277580419404"
      ]
     },
     "execution_count": 27,
     "metadata": {},
     "output_type": "execute_result"
    }
   ],
   "source": [
    "#Area based, instead of parameter based.\n",
    "def solidity(mask):\n",
    "        #Reads file\n",
    "    mask = cv2.imread(mask)\n",
    "    #Makes it grayscaled, just in case.\n",
    "    mask = rgb2gray(mask)\n",
    "    mask = mask.astype(np.uint8)\n",
    "\n",
    "    coords = np.column_stack(np.nonzero(mask))\n",
    "    hull = ConvexHull(coords)\n",
    "    lesion_area = np.count_nonzero(mask) # only count 1s\n",
    "    hull_area = hull.volume #returns are of hull in scipy. Bit misleading.\n",
    "    solidity_score = lesion_area/hull_area\n",
    "    return solidity_score\n",
    "\n",
    "solidity(file_4)\n"
   ]
  },
  {
   "cell_type": "code",
   "execution_count": null,
   "metadata": {},
   "outputs": [],
   "source": []
  }
 ],
 "metadata": {
  "kernelspec": {
   "display_name": "base",
   "language": "python",
   "name": "python3"
  },
  "language_info": {
   "codemirror_mode": {
    "name": "ipython",
    "version": 3
   },
   "file_extension": ".py",
   "mimetype": "text/x-python",
   "name": "python",
   "nbconvert_exporter": "python",
   "pygments_lexer": "ipython3",
   "version": "3.12.8"
  }
 },
 "nbformat": 4,
 "nbformat_minor": 2
}
